{
  "nbformat": 4,
  "nbformat_minor": 0,
  "metadata": {
    "colab": {
      "name": "Naive Bayesian Classifier",
      "provenance": [],
      "collapsed_sections": []
    },
    "kernelspec": {
      "name": "python3",
      "display_name": "Python 3"
    },
    "language_info": {
      "name": "python"
    }
  },
  "cells": [
    {
      "cell_type": "code",
      "source": [
        "from csv import reader\n",
        "import numpy as np\n",
        "import matplotlib.pyplot as plt\n",
        "import random\n",
        "from sklearn.naive_bayes import GaussianNB\n",
        "from sklearn.metrics import accuracy_score\n",
        "import pandas as pd"
      ],
      "metadata": {
        "id": "E7flJ8r0tYLO"
      },
      "execution_count": null,
      "outputs": []
    },
    {
      "cell_type": "code",
      "execution_count": null,
      "metadata": {
        "id": "QYQnakUWIbBH"
      },
      "outputs": [],
      "source": [
        "class NaiveBayesClassifier:\n",
        "\n",
        "    def __init__(self):\n",
        "        pass\n",
        "\n",
        "    # Separate the dataset into a subset of data for each class\n",
        "\n",
        "    def separate_classes(self, X, y):\n",
        "        \"\"\"\n",
        "        Separates the dataset in to a subset of data for each class.\n",
        "        Parameters:\n",
        "        ------------\n",
        "        X- array, list of features\n",
        "        y- list, target\n",
        "        Returns:\n",
        "        A dictionary with y as keys and assigned X as values.\n",
        "        \"\"\"\n",
        "        separated_classes = {}\n",
        "        for i in range(len(X)):\n",
        "            feature_values = X[i]\n",
        "            class_name = y[i]\n",
        "            if class_name not in separated_classes:\n",
        "                separated_classes[class_name] = []\n",
        "            separated_classes[class_name].append(feature_values)\n",
        "        return separated_classes\n",
        "\n",
        "    # Standard deviation and mean are required for the (Gaussian) distribution function\n",
        "\n",
        "    def stat_info(self, X):\n",
        "        \"\"\"\n",
        "        Calculates standard deviation and mean of features.\n",
        "        Parameters:\n",
        "        ------------\n",
        "        X- array , list of features\n",
        "        Returns:\n",
        "        A dictionary with STD and Mean as keys and assigned features STD and Mean as values.\n",
        "        \"\"\"\n",
        "        for feature in zip(*X):\n",
        "            yield {\n",
        "                'std' : np.std(feature),\n",
        "                'mean' : np.mean(feature)\n",
        "            }\n",
        "            \n",
        "    # Required fit method, to train the model\n",
        "\n",
        "    def fit (self, X, y):\n",
        "        \"\"\"\n",
        "        Trains the model.\n",
        "        Parameters:\n",
        "        ----------\n",
        "        X: array-like, training features\n",
        "        y: list, target variable\n",
        "        Returns:\n",
        "        Dictionary with the prior probability, mean, and standard deviation of each class\n",
        "        \"\"\"\n",
        "\n",
        "        separated_classes = self.separate_classes(X, y)\n",
        "        self.class_summary = {}\n",
        "\n",
        "        for class_name, feature_values in separated_classes.items():\n",
        "            self.class_summary[class_name] = {\n",
        "                'prior_proba': len(feature_values)/len(X),\n",
        "                'summary': [i for i in self.stat_info(feature_values)],\n",
        "            }\n",
        "        return self.class_summary\n",
        "\n",
        "    # Gaussian distribution function\n",
        "\n",
        "    def distribution(self, x, mean, std):\n",
        "        \"\"\"\n",
        "        Gaussian Distribution Function\n",
        "        Parameters:\n",
        "        ----------\n",
        "        x: float, value of feature\n",
        "        mean: float, the average value of feature\n",
        "        stdev: float, the standard deviation of feature\n",
        "        Returns:\n",
        "        A value of Normal Probability\n",
        "        \"\"\"\n",
        "\n",
        "        exponent = np.exp(-((x-mean)**2 / (2*std**2)))\n",
        "\n",
        "        return exponent / (np.sqrt(2*np.pi)*std)\n",
        "\n",
        "    # Required predict method, to predict the class\n",
        "\n",
        "    def predict(self, X):\n",
        "        \"\"\"\n",
        "        Predicts the class.\n",
        "        Parameters:\n",
        "        ----------\n",
        "        X: array-like, test data set\n",
        "        Returns:\n",
        "        -----------\n",
        "        List of predicted class for each row of data set\n",
        "        \"\"\"\n",
        "\n",
        "        # Maximum a posteriori (MAP)\n",
        "        \n",
        "        MAPs = []\n",
        "\n",
        "        for row in X:\n",
        "            joint_proba = {}\n",
        "            \n",
        "            for class_name, features in self.class_summary.items():\n",
        "                total_features =  len(features['summary'])\n",
        "                likelihood = 1\n",
        "\n",
        "                for idx in range(total_features):\n",
        "                    feature = row[idx]\n",
        "                    mean = features['summary'][idx]['mean']\n",
        "                    stdev = features['summary'][idx]['std']\n",
        "                    normal_proba = self.distribution(feature, mean, stdev)\n",
        "                    likelihood *= normal_proba\n",
        "                prior_proba = features['prior_proba']\n",
        "                joint_proba[class_name] = prior_proba * likelihood\n",
        "\n",
        "            MAP = max(joint_proba, key= joint_proba.get)\n",
        "            MAPs.append(MAP)\n",
        "\n",
        "        return MAPs\n",
        "    \n",
        "    # Calculate the model's accuracy\n",
        "\n",
        "    def accuracy(self, y_test, y_pred):\n",
        "        \"\"\"\n",
        "        Calculates model's accuracy.\n",
        "        Parameters:\n",
        "        ------------\n",
        "        y_test: actual values\n",
        "        y_pred: predicted values\n",
        "        Returns:\n",
        "        ------------\n",
        "        A number between 0-1, representing the percentage of correct predictions.\n",
        "        \"\"\"\n",
        "\n",
        "        true_true = 0\n",
        "\n",
        "        for y_t, y_p in zip(y_test, y_pred):\n",
        "            if y_t == y_p:\n",
        "                true_true += 1 \n",
        "        return true_true / len(y_test)\n",
        "        "
      ]
    },
    {
      "cell_type": "code",
      "source": [
        "def load_csv(filename):\n",
        "    dataset = list()\n",
        "    with open(filename, 'r') as file:\n",
        "        csv_reader = reader(file)\n",
        "        for row in csv_reader:\n",
        "            if not row:\n",
        "                continue\n",
        "            dataset.append(row)\n",
        "    return dataset\n",
        "    \n",
        "\n"
      ],
      "metadata": {
        "id": "gp61bS0RrlUf"
      },
      "execution_count": null,
      "outputs": []
    },
    {
      "cell_type": "code",
      "source": [
        "df = load_csv('/content/data_banknote_authentication.txt')\n",
        "\n",
        "for i in range(len(df)):\n",
        "  for j in range(4):\n",
        "    df[i][j] = float(df[i][j])\n",
        "\n",
        "print(type(df[0][0]))\n",
        "X = np.array([df[0][0:4]])\n",
        "y = np.array([df[0][4]])\n",
        "\n",
        "for i in range(1, len(df)):\n",
        "  tmp = np.array([])\n",
        "  for j in range(len(df[0])):\n",
        "    if (j == 4):\n",
        "      y = np.append(y, df[i][j])\n",
        "      continue\n",
        "    tmp = np.append(tmp, df[i][j])\n",
        "  X = np.vstack([X, tmp])\n",
        "\n",
        "fig, ax = plt.subplots(1, 1)\n",
        "ax.set_xlabel('0 is fake, 1 is genuine')\n",
        "ax.set_ylabel('Counts')\n",
        "ax.hist(y)\n",
        "print(np.shape(X))\n",
        "print(type(X))\n",
        "d = {'Variance Wavelet':pd.Series(X[:,0]),\n",
        "     'Skewness Wavelet':pd.Series(X[:,1]),\n",
        "   'Curtosis Wavelet':pd.Series(X[:,2]),\n",
        "   'Entropy':pd.Series(X[:,3]),\n",
        "   'IsFake': pd.Series(y)}\n",
        "\n",
        "df = pd.DataFrame(d)\n",
        "df.head()\n",
        "df.describe()\n"
      ],
      "metadata": {
        "colab": {
          "base_uri": "https://localhost:8080/",
          "height": 618
        },
        "id": "H8LJmaeotspv",
        "outputId": "53090498-9006-4c19-f80a-59808118e2ac"
      },
      "execution_count": null,
      "outputs": [
        {
          "output_type": "stream",
          "name": "stdout",
          "text": [
            "<class 'float'>\n",
            "(1372, 4)\n",
            "<class 'numpy.ndarray'>\n"
          ]
        },
        {
          "output_type": "execute_result",
          "data": {
            "text/plain": [
              "       Variance Wavelet  Skewness Wavelet  Curtosis Wavelet      Entropy\n",
              "count       1372.000000       1372.000000       1372.000000  1372.000000\n",
              "mean           0.433735          1.922353          1.397627    -1.191657\n",
              "std            2.842763          5.869047          4.310030     2.101013\n",
              "min           -7.042100        -13.773100         -5.286100    -8.548200\n",
              "25%           -1.773000         -1.708200         -1.574975    -2.413450\n",
              "50%            0.496180          2.319650          0.616630    -0.586650\n",
              "75%            2.821475          6.814625          3.179250     0.394810\n",
              "max            6.824800         12.951600         17.927400     2.449500"
            ],
            "text/html": [
              "\n",
              "  <div id=\"df-8db3cb35-eb30-4e1b-a888-2d9fad2f19d1\">\n",
              "    <div class=\"colab-df-container\">\n",
              "      <div>\n",
              "<style scoped>\n",
              "    .dataframe tbody tr th:only-of-type {\n",
              "        vertical-align: middle;\n",
              "    }\n",
              "\n",
              "    .dataframe tbody tr th {\n",
              "        vertical-align: top;\n",
              "    }\n",
              "\n",
              "    .dataframe thead th {\n",
              "        text-align: right;\n",
              "    }\n",
              "</style>\n",
              "<table border=\"1\" class=\"dataframe\">\n",
              "  <thead>\n",
              "    <tr style=\"text-align: right;\">\n",
              "      <th></th>\n",
              "      <th>Variance Wavelet</th>\n",
              "      <th>Skewness Wavelet</th>\n",
              "      <th>Curtosis Wavelet</th>\n",
              "      <th>Entropy</th>\n",
              "    </tr>\n",
              "  </thead>\n",
              "  <tbody>\n",
              "    <tr>\n",
              "      <th>count</th>\n",
              "      <td>1372.000000</td>\n",
              "      <td>1372.000000</td>\n",
              "      <td>1372.000000</td>\n",
              "      <td>1372.000000</td>\n",
              "    </tr>\n",
              "    <tr>\n",
              "      <th>mean</th>\n",
              "      <td>0.433735</td>\n",
              "      <td>1.922353</td>\n",
              "      <td>1.397627</td>\n",
              "      <td>-1.191657</td>\n",
              "    </tr>\n",
              "    <tr>\n",
              "      <th>std</th>\n",
              "      <td>2.842763</td>\n",
              "      <td>5.869047</td>\n",
              "      <td>4.310030</td>\n",
              "      <td>2.101013</td>\n",
              "    </tr>\n",
              "    <tr>\n",
              "      <th>min</th>\n",
              "      <td>-7.042100</td>\n",
              "      <td>-13.773100</td>\n",
              "      <td>-5.286100</td>\n",
              "      <td>-8.548200</td>\n",
              "    </tr>\n",
              "    <tr>\n",
              "      <th>25%</th>\n",
              "      <td>-1.773000</td>\n",
              "      <td>-1.708200</td>\n",
              "      <td>-1.574975</td>\n",
              "      <td>-2.413450</td>\n",
              "    </tr>\n",
              "    <tr>\n",
              "      <th>50%</th>\n",
              "      <td>0.496180</td>\n",
              "      <td>2.319650</td>\n",
              "      <td>0.616630</td>\n",
              "      <td>-0.586650</td>\n",
              "    </tr>\n",
              "    <tr>\n",
              "      <th>75%</th>\n",
              "      <td>2.821475</td>\n",
              "      <td>6.814625</td>\n",
              "      <td>3.179250</td>\n",
              "      <td>0.394810</td>\n",
              "    </tr>\n",
              "    <tr>\n",
              "      <th>max</th>\n",
              "      <td>6.824800</td>\n",
              "      <td>12.951600</td>\n",
              "      <td>17.927400</td>\n",
              "      <td>2.449500</td>\n",
              "    </tr>\n",
              "  </tbody>\n",
              "</table>\n",
              "</div>\n",
              "      <button class=\"colab-df-convert\" onclick=\"convertToInteractive('df-8db3cb35-eb30-4e1b-a888-2d9fad2f19d1')\"\n",
              "              title=\"Convert this dataframe to an interactive table.\"\n",
              "              style=\"display:none;\">\n",
              "        \n",
              "  <svg xmlns=\"http://www.w3.org/2000/svg\" height=\"24px\"viewBox=\"0 0 24 24\"\n",
              "       width=\"24px\">\n",
              "    <path d=\"M0 0h24v24H0V0z\" fill=\"none\"/>\n",
              "    <path d=\"M18.56 5.44l.94 2.06.94-2.06 2.06-.94-2.06-.94-.94-2.06-.94 2.06-2.06.94zm-11 1L8.5 8.5l.94-2.06 2.06-.94-2.06-.94L8.5 2.5l-.94 2.06-2.06.94zm10 10l.94 2.06.94-2.06 2.06-.94-2.06-.94-.94-2.06-.94 2.06-2.06.94z\"/><path d=\"M17.41 7.96l-1.37-1.37c-.4-.4-.92-.59-1.43-.59-.52 0-1.04.2-1.43.59L10.3 9.45l-7.72 7.72c-.78.78-.78 2.05 0 2.83L4 21.41c.39.39.9.59 1.41.59.51 0 1.02-.2 1.41-.59l7.78-7.78 2.81-2.81c.8-.78.8-2.07 0-2.86zM5.41 20L4 18.59l7.72-7.72 1.47 1.35L5.41 20z\"/>\n",
              "  </svg>\n",
              "      </button>\n",
              "      \n",
              "  <style>\n",
              "    .colab-df-container {\n",
              "      display:flex;\n",
              "      flex-wrap:wrap;\n",
              "      gap: 12px;\n",
              "    }\n",
              "\n",
              "    .colab-df-convert {\n",
              "      background-color: #E8F0FE;\n",
              "      border: none;\n",
              "      border-radius: 50%;\n",
              "      cursor: pointer;\n",
              "      display: none;\n",
              "      fill: #1967D2;\n",
              "      height: 32px;\n",
              "      padding: 0 0 0 0;\n",
              "      width: 32px;\n",
              "    }\n",
              "\n",
              "    .colab-df-convert:hover {\n",
              "      background-color: #E2EBFA;\n",
              "      box-shadow: 0px 1px 2px rgba(60, 64, 67, 0.3), 0px 1px 3px 1px rgba(60, 64, 67, 0.15);\n",
              "      fill: #174EA6;\n",
              "    }\n",
              "\n",
              "    [theme=dark] .colab-df-convert {\n",
              "      background-color: #3B4455;\n",
              "      fill: #D2E3FC;\n",
              "    }\n",
              "\n",
              "    [theme=dark] .colab-df-convert:hover {\n",
              "      background-color: #434B5C;\n",
              "      box-shadow: 0px 1px 3px 1px rgba(0, 0, 0, 0.15);\n",
              "      filter: drop-shadow(0px 1px 2px rgba(0, 0, 0, 0.3));\n",
              "      fill: #FFFFFF;\n",
              "    }\n",
              "  </style>\n",
              "\n",
              "      <script>\n",
              "        const buttonEl =\n",
              "          document.querySelector('#df-8db3cb35-eb30-4e1b-a888-2d9fad2f19d1 button.colab-df-convert');\n",
              "        buttonEl.style.display =\n",
              "          google.colab.kernel.accessAllowed ? 'block' : 'none';\n",
              "\n",
              "        async function convertToInteractive(key) {\n",
              "          const element = document.querySelector('#df-8db3cb35-eb30-4e1b-a888-2d9fad2f19d1');\n",
              "          const dataTable =\n",
              "            await google.colab.kernel.invokeFunction('convertToInteractive',\n",
              "                                                     [key], {});\n",
              "          if (!dataTable) return;\n",
              "\n",
              "          const docLinkHtml = 'Like what you see? Visit the ' +\n",
              "            '<a target=\"_blank\" href=https://colab.research.google.com/notebooks/data_table.ipynb>data table notebook</a>'\n",
              "            + ' to learn more about interactive tables.';\n",
              "          element.innerHTML = '';\n",
              "          dataTable['output_type'] = 'display_data';\n",
              "          await google.colab.output.renderOutput(dataTable, element);\n",
              "          const docLink = document.createElement('div');\n",
              "          docLink.innerHTML = docLinkHtml;\n",
              "          element.appendChild(docLink);\n",
              "        }\n",
              "      </script>\n",
              "    </div>\n",
              "  </div>\n",
              "  "
            ]
          },
          "metadata": {},
          "execution_count": 42
        },
        {
          "output_type": "display_data",
          "data": {
            "text/plain": [
              "<Figure size 432x288 with 1 Axes>"
            ],
            "image/png": "[encoded data removed]"
          },
          "metadata": {
            "needs_background": "light"
          }
        }
      ]
    },
    {
      "cell_type": "code",
      "source": [
        "f = plt.figure(figsize=(10, 10))\n",
        "plt.matshow(df.corr(), fignum=f.number)\n",
        "plt.xticks(range(df.select_dtypes(['number']).shape[1]), df.select_dtypes(['number']).columns, fontsize=14, rotation=45)\n",
        "plt.yticks(range(df.select_dtypes(['number']).shape[1]), df.select_dtypes(['number']).columns, fontsize=14)\n",
        "cb = plt.colorbar()\n",
        "cb.ax.tick_params(labelsize=14)\n",
        "plt.title('Correlation Matrix', fontsize=16);"
      ],
      "metadata": {
        "colab": {
          "base_uri": "https://localhost:8080/",
          "height": 642
        },
        "id": "Z1m3LK5uCr3v",
        "outputId": "d443049e-7ca1-4516-f164-9e20dfcb8ebc"
      },
      "execution_count": null,
      "outputs": [
        {
          "output_type": "display_data",
          "data": {
            "text/plain": [
              "<Figure size 720x720 with 2 Axes>"
            ],
            "image/png": "[encoded data removed]"
          },
          "metadata": {
            "needs_background": "light"
          }
        }
      ]
    },
    {
      "cell_type": "code",
      "source": [
        "# def split_data(data, weight):\n",
        "#     \"\"\"\n",
        "#     Random split of a data set into training and test data sets\n",
        "    \n",
        "#     Parameters:\n",
        "#     -----------\n",
        "#     data: array-like, dataset\n",
        "#     weight: float, percentage of data to be used as training\n",
        "    \n",
        "#     Returns:\n",
        "#     List of two datasets\n",
        "#     \"\"\"\n",
        "#     train_length = int(len(data) * weight)\n",
        "#     train = []\n",
        "#     for i in range(train_length):\n",
        "#         idx = random.randrange(len(data))\n",
        "#         train.append(data[idx])\n",
        "#         data.pop(idx)\n",
        "#     return [train, data]\n",
        "\n",
        "from sklearn.model_selection import train_test_split\n",
        "\n",
        "X_train, X_test, y_train, y_test = train_test_split(X, y, random_state=4)\n",
        "\n",
        "# train, test = split_data(df, 0.8)\n",
        "# X_train = []\n",
        "# y_train = []\n",
        "# X_test = []\n",
        "# y_test = []\n",
        "\n",
        "# for i in range(len(train)):\n",
        "#     y_train.append(train[i][4])\n",
        "#     X_train.append(train[i][0:4])\n",
        "    \n",
        "# for i in range(len(test)):\n",
        "#     y_test.append(test[i][4])\n",
        "#     X_test.append(test[i][0:4])\n",
        "\n",
        "model = NaiveBayesClassifier()\n",
        "model.fit(X_train, y_train)\n",
        "y_pred_own = model.predict(X_test)\n",
        "\n",
        "print(\"NaiveBayesClassifier accuracy: {0:.3f}\".format(model.accuracy(y_test, y_pred_own)))\n",
        "\n",
        "model = GaussianNB()\n",
        "model.fit(X_train, y_train)\n",
        "y_pred = model.predict(X_test)\n",
        "\n",
        "\n",
        "print(\"Scikit-learn GaussianNB accuracy: {0:.3f}\".format(accuracy_score(y_test, y_pred)))"
      ],
      "metadata": {
        "colab": {
          "base_uri": "https://localhost:8080/"
        },
        "id": "APhCLkIK1vAP",
        "outputId": "57ffbce6-1341-4b94-e680-3c4ed0abcead"
      },
      "execution_count": null,
      "outputs": [
        {
          "output_type": "stream",
          "name": "stdout",
          "text": [
            "NaiveBayesClassifier accuracy: 0.845\n",
            "Scikit-learn GaussianNB accuracy: 0.845\n"
          ]
        }
      ]
    },
    {
      "cell_type": "code",
      "source": [
        "from sklearn. metrics import roc_auc_score, roc_curve\n",
        "\n",
        "r_auc = roc_auc_score(y_test, y_pred)\n",
        "r_auc_own = roc_auc_score(y_test, y_pred_own)\n",
        "print(r_auc)"
      ],
      "metadata": {
        "colab": {
          "base_uri": "https://localhost:8080/"
        },
        "id": "-D6mna0_7bRf",
        "outputId": "7f19a335-fe42-4625-c6f4-32b3f832689f"
      },
      "execution_count": null,
      "outputs": [
        {
          "output_type": "stream",
          "name": "stdout",
          "text": [
            "0.8435374149659864\n"
          ]
        },
        {
          "output_type": "stream",
          "name": "stderr",
          "text": [
            "/usr/local/lib/python3.7/dist-packages/sklearn/metrics/_ranking.py:546: FutureWarning: Arrays of bytes/strings is being converted to decimal numbers if dtype='numeric'. This behavior is deprecated in 0.24 and will be removed in 1.1 (renaming of 0.26). Please convert your data to numeric values explicitly instead.\n",
            "  y_score = check_array(y_score, ensure_2d=False)\n",
            "/usr/local/lib/python3.7/dist-packages/sklearn/metrics/_ranking.py:546: FutureWarning: Arrays of bytes/strings is being converted to decimal numbers if dtype='numeric'. This behavior is deprecated in 0.24 and will be removed in 1.1 (renaming of 0.26). Please convert your data to numeric values explicitly instead.\n",
            "  y_score = check_array(y_score, ensure_2d=False)\n"
          ]
        }
      ]
    },
    {
      "cell_type": "code",
      "source": [
        "y_pred_conv = []\n",
        "y_test_conv = []\n",
        "y_pred_conv_own = []\n",
        "for i in range(len(y_test)):\n",
        "  y_test_conv.append(int(y_test[i]))\n",
        "  y_pred_conv.append(y_pred[i].astype(np.int64))\n",
        "  y_pred_conv_own.append(y_pred_own[i].astype(np.int64))\n",
        "\n",
        "\n",
        "print(type(y_pred[0].astype(np.int)))\n",
        "fpr, tpr, _ = roc_curve(y_test_conv, y_pred_conv)\n",
        "fpr_own, tpr_own, _ = roc_curve(y_test_conv, y_pred_conv_own)\n",
        "\n",
        "fig, axs = plt.subplots(2)\n",
        "axs[0].plot(fpr, tpr, label='Naive Bayes Sklearn (AUROC = %0.3f)' % r_auc)\n",
        "axs[1].plot(fpr_own, tpr_own, label='Naive Bayes Own (AUROC = %0.3f)' % r_auc_own)\n",
        "\n",
        "axs[0].set_title(\"ROC Plot\")\n",
        "axs[0].set_xlabel(\"False Positive Rate\")\n",
        "axs[0].set_ylabel(\"True Positive Rate\")\n",
        "\n",
        "axs[1].set_title(\"ROC Plot\")\n",
        "axs[1].set_xlabel(\"False Positive Rate\")\n",
        "axs[1].set_ylabel(\"True Positive Rate\")\n",
        "\n",
        "fig.tight_layout()\n",
        "    \n",
        "axs[0].legend()\n",
        "axs[1].legend()\n",
        "plt.show() "
      ],
      "metadata": {
        "colab": {
          "base_uri": "https://localhost:8080/",
          "height": 386
        },
        "id": "N7Vdxrs7OAZ6",
        "outputId": "829bdc7a-659e-4f00-e35b-6f65aa6de229"
      },
      "execution_count": null,
      "outputs": [
        {
          "output_type": "stream",
          "name": "stderr",
          "text": [
            "/usr/local/lib/python3.7/dist-packages/ipykernel_launcher.py:10: DeprecationWarning: `np.int` is a deprecated alias for the builtin `int`. To silence this warning, use `int` by itself. Doing this will not modify any behavior and is safe. When replacing `np.int`, you may wish to use e.g. `np.int64` or `np.int32` to specify the precision. If you wish to review your current use, check the release note link for additional information.\n",
            "Deprecated in NumPy 1.20; for more details and guidance: https://numpy.org/devdocs/release/1.20.0-notes.html#deprecations\n",
            "  # Remove the CWD from sys.path while we load stuff.\n"
          ]
        },
        {
          "output_type": "stream",
          "name": "stdout",
          "text": [
            "<class 'numpy.int64'>\n"
          ]
        },
        {
          "output_type": "display_data",
          "data": {
            "text/plain": [
              "<Figure size 432x288 with 2 Axes>"
            ],
            "image/png": "[encoded data removed]"
          },
          "metadata": {
            "needs_background": "light"
          }
        }
      ]
    }
  ]
}